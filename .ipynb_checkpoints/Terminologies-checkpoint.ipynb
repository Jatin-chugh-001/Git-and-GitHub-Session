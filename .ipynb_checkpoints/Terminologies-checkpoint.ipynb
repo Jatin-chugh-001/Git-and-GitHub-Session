{
 "cells": [
  {
   "cell_type": "markdown",
   "metadata": {},
   "source": [
    "# GITHUB REPOSITORY"
   ]
  },
  {
   "cell_type": "markdown",
   "metadata": {},
   "source": [
    "In simpler words, a repository on GitHub is a GitHub repository.  A repository is similar to a folder and a GitHub repository becomes a folder that is available online on the cloud for the people to download, access and contribute. This folder contains the code files of the project which can now be used by the other people.\n",
    "\n",
    "GitHub provides two types of repositories for the user to choose and perform their tasks in.\n",
    "\n",
    "    Public repository: Which is public to everyone\n",
    "    Private Repository: Which is visible to only few authorized people\n"
   ]
  },
  {
   "cell_type": "markdown",
   "metadata": {},
   "source": [
    "To know more about repositories and how to create it in GitHub, read this:\n",
    "    \n",
    "https://www.toolsqa.com/git/create-github-repository/"
   ]
  },
  {
   "cell_type": "markdown",
   "metadata": {},
   "source": [
    "# COMMIT"
   ]
  },
  {
   "cell_type": "markdown",
   "metadata": {},
   "source": [
    "git commit creates a commit, which is like a snapshot of your repository. These commits are snapshots of your entire repository at specific times. One should make new commits often, based around logical units of change. \n",
    "\n",
    "Over time, commits should tell a story of the history of your repository and how it came to be the way that it currently is. "
   ]
  },
  {
   "cell_type": "markdown",
   "metadata": {},
   "source": [
    "# PULL REQUEST"
   ]
  },
  {
   "cell_type": "markdown",
   "metadata": {},
   "source": [
    "A pull request (PR) is a method of submitting contributions to an open development project. It occurs when a developer asks for changes committed to an external repository to be considered for inclusion in a project’s main repository after the peer review.\n",
    "\n",
    "Simple example is when you clone/fork the open source repository, do some changes/commits and in order to merge the changes into the main repository, you are required to send the pull request which consist all your commits grouped into one logical piece so it can be reviewed by other developers."
   ]
  },
  {
   "cell_type": "code",
   "execution_count": null,
   "metadata": {},
   "outputs": [],
   "source": []
  }
 ],
 "metadata": {
  "kernelspec": {
   "display_name": "Python 3",
   "language": "python",
   "name": "python3"
  },
  "language_info": {
   "codemirror_mode": {
    "name": "ipython",
    "version": 3
   },
   "file_extension": ".py",
   "mimetype": "text/x-python",
   "name": "python",
   "nbconvert_exporter": "python",
   "pygments_lexer": "ipython3",
   "version": "3.7.6"
  }
 },
 "nbformat": 4,
 "nbformat_minor": 4
}
